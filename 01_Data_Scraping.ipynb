{
 "cells": [
  {
   "cell_type": "code",
   "execution_count": null,
   "id": "08897909",
   "metadata": {},
   "outputs": [],
   "source": [
    "import os\n",
    "import sys\n",
    "import time\n",
    "import pickle\n",
    "from time import sleep\n",
    "from selenium import webdriver\n",
    "from bs4 import BeautifulSoup"
   ]
  },
  {
   "cell_type": "markdown",
   "id": "3477e9dc",
   "metadata": {
    "ExecuteTime": {
     "end_time": "2021-09-15T05:56:34.578166Z",
     "start_time": "2021-09-15T05:56:34.575166Z"
    }
   },
   "source": [
    "# References used for Web Scraping\n",
    "* https://www.javatpoint.com/selenium-python\n",
    "* https://shanyitan.medium.com/how-to-install-selenium-and-run-it-successfully-via-jupyter-lab-c3f50d22a0d4"
   ]
  },
  {
   "cell_type": "markdown",
   "id": "a194d717",
   "metadata": {},
   "source": [
    "# Generate a Dictionary of SONA Speeches"
   ]
  },
  {
   "cell_type": "code",
   "execution_count": null,
   "id": "ac7957dc",
   "metadata": {},
   "outputs": [],
   "source": [
    "from selenium.webdriver.chrome.options import Options\n",
    "from selenium import webdriver\n",
    "\n",
    "chrome_options = Options()\n",
    "chrome_options.add_argument(\"--headless\")\n",
    "chrome_options.add_argument(\"--enable-javascript\")\n",
    "chrome_options.add_argument(\"--window-size=1920,1200\")\n",
    "\n",
    "driver = webdriver.Chrome(options=chrome_options)\n",
    "driver.get(\"https://www.officialgazette.gov.ph/past-sona-speeches/\")\n",
    "soup = BeautifulSoup(driver.page_source)\n",
    "soup"
   ]
  },
  {
   "cell_type": "code",
   "execution_count": null,
   "id": "af0b7ca5",
   "metadata": {},
   "outputs": [],
   "source": [
    "presidents = {}\n",
    "data_table = soup.select('table')[0]\n",
    "presidents = data_table.select('td[rowspan]')\n",
    "for pres in presidents:\n",
    "    president = pres.text\n",
    "data_rows = data_table.select('tr')[1:]\n",
    "for row in data_rows:\n",
    "    columns = row.select('td')\n",
    "    if len(columns) == 5:\n",
    "        president = columns[0].text\n",
    "        presidents[president] = {}\n",
    "        presidents[president]['Date'] = [columns[1].text]\n",
    "        presidents[president]['Link'] = [columns[2].a['href']]\n",
    "        presidents[president]['NoS'] = [columns[2].text]\n",
    "        presidents[president]['Loc'] = [columns[3].text]\n",
    "        presidents[president]['Sesh'] = [columns[4].text]\n",
    "    elif len(columns) == 4:\n",
    "        presidents[president]['Date'] = (presidents[president]['Date'] +\n",
    "                                         [columns[0].text])\n",
    "        presidents[president]['Link'] = (presidents[president]['Link'] +\n",
    "                                         [columns[1].a['href']])\n",
    "        presidents[president]['NoS'] = (presidents[president]['NoS'] +\n",
    "                                        [columns[1].text])\n",
    "        presidents[president]['Loc'] = (presidents[president]['Loc'] +\n",
    "                                        [columns[2].text])\n",
    "        presidents[president]['Sesh'] = (presidents[president]['Sesh'] +\n",
    "                                         [columns[3].text])\n",
    "\n",
    "# Since PNoy's speeches were in Tagalog, English translations\n",
    "# were replaced manually.\n",
    "english_trans = ['https://www.officialgazette.gov.ph/2010/07/26/' +\\\n",
    "                 'state-of-the-nation-address-2010-en/',\n",
    "                 'https://www.officialgazette.gov.ph/2011/07/25/' +\\\n",
    "                 'benigno-s-aquino-iii-second-state-of-the-nation-address-july-25-2011-en/',\n",
    "                 'https://www.officialgazette.gov.ph/2012/07/23/' +\\\n",
    "                 'english-translation-benigno-s-aquino-iii-third-state-of-the-nation-address-july-23-2012/',\n",
    "                 'https://www.officialgazette.gov.ph/2013/07/22/' +\\\n",
    "                 'english-benigno-s-aquino-iii-fourth-state-of-the-nation-address-july-22-2013/',\n",
    "                 'https://www.officialgazette.gov.ph/2014/07/28/' +\\\n",
    "                 'english-benigno-s-aquino-iii-fifth-state-of-the-nation-address-july-28-2014/',\n",
    "                 'https://www.officialgazette.gov.ph/2015/07/27/' +\\\n",
    "                 'english-president-aquino-sixth-sona/']\n",
    "presidents['Benigno S. Aquino III']['Link'] = english_trans\n",
    "# Saving files to a Pickle File\n",
    "with open(\"SpeechDictionary.pkl\",\"wb\") as file:\n",
    "    pickle.dump(presidents, file)"
   ]
  },
  {
   "cell_type": "markdown",
   "id": "7c37c5f5",
   "metadata": {},
   "source": [
    "# Getting Speeches"
   ]
  },
  {
   "cell_type": "code",
   "execution_count": null,
   "id": "dbcd1277",
   "metadata": {},
   "outputs": [],
   "source": [
    "# If SpeechDictionary is already made. Start runs from here.\n",
    "with open(\"SpeechDictionary.pkl\",\"rb\") as file:\n",
    "    presidents = pickle.load(file)\n",
    "presidents"
   ]
  },
  {
   "cell_type": "code",
   "execution_count": null,
   "id": "f6bb68ae",
   "metadata": {},
   "outputs": [],
   "source": [
    "from tqdm import tqdm\n",
    "for pres in presidents:\n",
    "    for l in tqdm(presidents[pres]['Link'],\n",
    "                  desc = f'Getting Data From {pres}'):\n",
    "        speech = None\n",
    "        driver2 = webdriver.Chrome(options=chrome_options)\n",
    "        driver2.get(l)\n",
    "        while speech is None:\n",
    "            try:\n",
    "                soup2 = BeautifulSoup(driver2.page_source)\n",
    "                speech = soup2.select('div[class = \"entry-content\"]')[0].text\n",
    "            except:\n",
    "                time.sleep(1)\n",
    "                driver2.refresh()\n",
    "                print('Reloading Web Page...')\n",
    "        driver2.close()\n",
    "        presidents[pres]['Speech'] = (presidents[pres].get('Speech',[])\n",
    "                                      + [speech])\n",
    "    presName = (pres.split()[-1]\n",
    "                if pres.split()[-1] != 'III'\n",
    "                else '_'.join(pres.split()[-2:]))\n",
    "    with open(f\"SpeechDictionary_{presName}.pkl\",\"wb\") as file:\n",
    "        pickle.dump(presidents, file)\n",
    "        \n",
    "with open(f\"SpeechDictionary_complete.pkl\",\"wb\") as file:\n",
    "    pickle.dump(presidents, file)"
   ]
  }
 ],
 "metadata": {
  "kernelspec": {
   "display_name": "Python 3",
   "language": "python",
   "name": "python3"
  },
  "language_info": {
   "codemirror_mode": {
    "name": "ipython",
    "version": 3
   },
   "file_extension": ".py",
   "mimetype": "text/x-python",
   "name": "python",
   "nbconvert_exporter": "python",
   "pygments_lexer": "ipython3",
   "version": "3.8.8"
  },
  "toc": {
   "base_numbering": 1,
   "nav_menu": {},
   "number_sections": true,
   "sideBar": true,
   "skip_h1_title": false,
   "title_cell": "Table of Contents",
   "title_sidebar": "Contents",
   "toc_cell": false,
   "toc_position": {},
   "toc_section_display": true,
   "toc_window_display": true
  }
 },
 "nbformat": 4,
 "nbformat_minor": 5
}
